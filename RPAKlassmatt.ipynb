{
  "nbformat": 4,
  "nbformat_minor": 0,
  "metadata": {
    "colab": {
      "provenance": [],
      "collapsed_sections": [
        "Hky52P6swlCv"
      ],
      "authorship_tag": "ABX9TyOj737AuGs04Y0vTKCZwwsX",
      "include_colab_link": true
    },
    "kernelspec": {
      "name": "python3",
      "display_name": "Python 3"
    },
    "language_info": {
      "name": "python"
    }
  },
  "cells": [
    {
      "cell_type": "markdown",
      "metadata": {
        "id": "view-in-github",
        "colab_type": "text"
      },
      "source": [
        "<a href=\"https://colab.research.google.com/github/jays0n/Projeto-CadKlassmatt/blob/main/RPAKlassmatt.ipynb\" target=\"_parent\"><img src=\"https://colab.research.google.com/assets/colab-badge.svg\" alt=\"Open In Colab\"/></a>"
      ]
    },
    {
      "cell_type": "markdown",
      "source": [
        "# **Projeto RPA Klassmatt**"
      ],
      "metadata": {
        "id": "Hky52P6swlCv"
      }
    },
    {
      "cell_type": "code",
      "source": [
        "#Installs\n",
        "!pip install selenium\n",
        "!apt-get update\n",
        "!apt install chromium-chromedriver"
      ],
      "metadata": {
        "id": "GdWQxQ7Ewwbf",
        "colab": {
          "base_uri": "https://localhost:8080/"
        },
        "outputId": "724606a5-8576-4c7c-ce73-b32b941bb04b"
      },
      "execution_count": 1,
      "outputs": [
        {
          "output_type": "stream",
          "name": "stdout",
          "text": [
            "Collecting selenium\n",
            "  Downloading selenium-4.16.0-py3-none-any.whl (10.0 MB)\n",
            "\u001b[2K     \u001b[90m━━━━━━━━━━━━━━━━━━━━━━━━━━━━━━━━━━━━━━━━\u001b[0m \u001b[32m10.0/10.0 MB\u001b[0m \u001b[31m17.9 MB/s\u001b[0m eta \u001b[36m0:00:00\u001b[0m\n",
            "\u001b[?25hRequirement already satisfied: urllib3[socks]<3,>=1.26 in /usr/local/lib/python3.10/dist-packages (from selenium) (2.0.7)\n",
            "Collecting trio~=0.17 (from selenium)\n",
            "  Downloading trio-0.23.2-py3-none-any.whl (461 kB)\n",
            "\u001b[2K     \u001b[90m━━━━━━━━━━━━━━━━━━━━━━━━━━━━━━━━━━━━━━━━\u001b[0m \u001b[32m461.6/461.6 kB\u001b[0m \u001b[31m22.3 MB/s\u001b[0m eta \u001b[36m0:00:00\u001b[0m\n",
            "\u001b[?25hCollecting trio-websocket~=0.9 (from selenium)\n",
            "  Downloading trio_websocket-0.11.1-py3-none-any.whl (17 kB)\n",
            "Requirement already satisfied: certifi>=2021.10.8 in /usr/local/lib/python3.10/dist-packages (from selenium) (2023.11.17)\n",
            "Requirement already satisfied: attrs>=20.1.0 in /usr/local/lib/python3.10/dist-packages (from trio~=0.17->selenium) (23.1.0)\n",
            "Requirement already satisfied: sortedcontainers in /usr/local/lib/python3.10/dist-packages (from trio~=0.17->selenium) (2.4.0)\n",
            "Requirement already satisfied: idna in /usr/local/lib/python3.10/dist-packages (from trio~=0.17->selenium) (3.6)\n",
            "Collecting outcome (from trio~=0.17->selenium)\n",
            "  Downloading outcome-1.3.0.post0-py2.py3-none-any.whl (10 kB)\n",
            "Requirement already satisfied: sniffio>=1.3.0 in /usr/local/lib/python3.10/dist-packages (from trio~=0.17->selenium) (1.3.0)\n",
            "Requirement already satisfied: exceptiongroup in /usr/local/lib/python3.10/dist-packages (from trio~=0.17->selenium) (1.2.0)\n",
            "Collecting wsproto>=0.14 (from trio-websocket~=0.9->selenium)\n",
            "  Downloading wsproto-1.2.0-py3-none-any.whl (24 kB)\n",
            "Requirement already satisfied: pysocks!=1.5.7,<2.0,>=1.5.6 in /usr/local/lib/python3.10/dist-packages (from urllib3[socks]<3,>=1.26->selenium) (1.7.1)\n",
            "Collecting h11<1,>=0.9.0 (from wsproto>=0.14->trio-websocket~=0.9->selenium)\n",
            "  Downloading h11-0.14.0-py3-none-any.whl (58 kB)\n",
            "\u001b[2K     \u001b[90m━━━━━━━━━━━━━━━━━━━━━━━━━━━━━━━━━━━━━━━━\u001b[0m \u001b[32m58.3/58.3 kB\u001b[0m \u001b[31m2.3 MB/s\u001b[0m eta \u001b[36m0:00:00\u001b[0m\n",
            "\u001b[?25hInstalling collected packages: outcome, h11, wsproto, trio, trio-websocket, selenium\n",
            "Successfully installed h11-0.14.0 outcome-1.3.0.post0 selenium-4.16.0 trio-0.23.2 trio-websocket-0.11.1 wsproto-1.2.0\n",
            "Get:1 http://security.ubuntu.com/ubuntu jammy-security InRelease [110 kB]\n",
            "Get:2 https://cloud.r-project.org/bin/linux/ubuntu jammy-cran40/ InRelease [3,626 B]\n",
            "Hit:3 https://developer.download.nvidia.com/compute/cuda/repos/ubuntu2204/x86_64  InRelease\n",
            "Hit:4 http://archive.ubuntu.com/ubuntu jammy InRelease\n",
            "Get:5 http://archive.ubuntu.com/ubuntu jammy-updates InRelease [119 kB]\n",
            "Hit:6 https://ppa.launchpadcontent.net/c2d4u.team/c2d4u4.0+/ubuntu jammy InRelease\n",
            "Hit:7 https://ppa.launchpadcontent.net/deadsnakes/ppa/ubuntu jammy InRelease\n",
            "Get:8 http://security.ubuntu.com/ubuntu jammy-security/main amd64 Packages [1,326 kB]\n",
            "Hit:9 https://ppa.launchpadcontent.net/graphics-drivers/ppa/ubuntu jammy InRelease\n",
            "Hit:10 http://archive.ubuntu.com/ubuntu jammy-backports InRelease\n",
            "Hit:11 https://ppa.launchpadcontent.net/ubuntugis/ppa/ubuntu jammy InRelease\n",
            "Get:12 http://security.ubuntu.com/ubuntu jammy-security/universe amd64 Packages [1,046 kB]\n",
            "Get:13 http://archive.ubuntu.com/ubuntu jammy-updates/main amd64 Packages [1,599 kB]\n",
            "Get:14 http://archive.ubuntu.com/ubuntu jammy-updates/universe amd64 Packages [1,305 kB]\n",
            "Fetched 5,509 kB in 2s (2,686 kB/s)\n",
            "Reading package lists... Done\n",
            "Reading package lists... Done\n",
            "Building dependency tree... Done\n",
            "Reading state information... Done\n",
            "The following additional packages will be installed:\n",
            "  apparmor chromium-browser libfuse3-3 liblzo2-2 libudev1 snapd squashfs-tools systemd-hwe-hwdb\n",
            "  udev\n",
            "Suggested packages:\n",
            "  apparmor-profiles-extra apparmor-utils fuse3 zenity | kdialog\n",
            "The following NEW packages will be installed:\n",
            "  apparmor chromium-browser chromium-chromedriver libfuse3-3 liblzo2-2 snapd squashfs-tools\n",
            "  systemd-hwe-hwdb udev\n",
            "The following packages will be upgraded:\n",
            "  libudev1\n",
            "1 upgraded, 9 newly installed, 0 to remove and 26 not upgraded.\n",
            "Need to get 26.4 MB of archives.\n",
            "After this operation, 116 MB of additional disk space will be used.\n",
            "Get:1 http://archive.ubuntu.com/ubuntu jammy-updates/main amd64 apparmor amd64 3.0.4-2ubuntu2.3 [595 kB]\n",
            "Get:2 http://archive.ubuntu.com/ubuntu jammy/main amd64 liblzo2-2 amd64 2.10-2build3 [53.7 kB]\n",
            "Get:3 http://archive.ubuntu.com/ubuntu jammy/main amd64 squashfs-tools amd64 1:4.5-3build1 [159 kB]\n",
            "Get:4 http://archive.ubuntu.com/ubuntu jammy-updates/main amd64 libudev1 amd64 249.11-0ubuntu3.11 [78.0 kB]\n",
            "Get:5 http://archive.ubuntu.com/ubuntu jammy-updates/main amd64 udev amd64 249.11-0ubuntu3.11 [1,557 kB]\n",
            "Get:6 http://archive.ubuntu.com/ubuntu jammy/main amd64 libfuse3-3 amd64 3.10.5-1build1 [81.2 kB]\n",
            "Get:7 http://archive.ubuntu.com/ubuntu jammy-updates/main amd64 snapd amd64 2.58+22.04.1 [23.8 MB]\n",
            "Get:8 http://archive.ubuntu.com/ubuntu jammy-updates/universe amd64 chromium-browser amd64 1:85.0.4183.83-0ubuntu2.22.04.1 [49.2 kB]\n",
            "Get:9 http://archive.ubuntu.com/ubuntu jammy-updates/universe amd64 chromium-chromedriver amd64 1:85.0.4183.83-0ubuntu2.22.04.1 [2,308 B]\n",
            "Get:10 http://archive.ubuntu.com/ubuntu jammy-updates/main amd64 systemd-hwe-hwdb all 249.11.4 [2,978 B]\n",
            "Fetched 26.4 MB in 2s (14.8 MB/s)\n",
            "Preconfiguring packages ...\n",
            "Selecting previously unselected package apparmor.\n",
            "(Reading database ... 121658 files and directories currently installed.)\n",
            "Preparing to unpack .../apparmor_3.0.4-2ubuntu2.3_amd64.deb ...\n",
            "Unpacking apparmor (3.0.4-2ubuntu2.3) ...\n",
            "Selecting previously unselected package liblzo2-2:amd64.\n",
            "Preparing to unpack .../liblzo2-2_2.10-2build3_amd64.deb ...\n",
            "Unpacking liblzo2-2:amd64 (2.10-2build3) ...\n",
            "Selecting previously unselected package squashfs-tools.\n",
            "Preparing to unpack .../squashfs-tools_1%3a4.5-3build1_amd64.deb ...\n",
            "Unpacking squashfs-tools (1:4.5-3build1) ...\n",
            "Preparing to unpack .../libudev1_249.11-0ubuntu3.11_amd64.deb ...\n",
            "Unpacking libudev1:amd64 (249.11-0ubuntu3.11) over (249.11-0ubuntu3.10) ...\n",
            "Setting up libudev1:amd64 (249.11-0ubuntu3.11) ...\n",
            "Selecting previously unselected package udev.\n",
            "(Reading database ... 121866 files and directories currently installed.)\n",
            "Preparing to unpack .../udev_249.11-0ubuntu3.11_amd64.deb ...\n",
            "Unpacking udev (249.11-0ubuntu3.11) ...\n",
            "Selecting previously unselected package libfuse3-3:amd64.\n",
            "Preparing to unpack .../libfuse3-3_3.10.5-1build1_amd64.deb ...\n",
            "Unpacking libfuse3-3:amd64 (3.10.5-1build1) ...\n",
            "Selecting previously unselected package snapd.\n",
            "Preparing to unpack .../snapd_2.58+22.04.1_amd64.deb ...\n",
            "Unpacking snapd (2.58+22.04.1) ...\n",
            "Setting up apparmor (3.0.4-2ubuntu2.3) ...\n",
            "Created symlink /etc/systemd/system/sysinit.target.wants/apparmor.service → /lib/systemd/system/apparmor.service.\n",
            "Setting up liblzo2-2:amd64 (2.10-2build3) ...\n",
            "Setting up squashfs-tools (1:4.5-3build1) ...\n",
            "Setting up udev (249.11-0ubuntu3.11) ...\n",
            "invoke-rc.d: could not determine current runlevel\n",
            "invoke-rc.d: policy-rc.d denied execution of start.\n",
            "Setting up libfuse3-3:amd64 (3.10.5-1build1) ...\n",
            "Setting up snapd (2.58+22.04.1) ...\n",
            "Created symlink /etc/systemd/system/multi-user.target.wants/snapd.aa-prompt-listener.service → /lib/systemd/system/snapd.aa-prompt-listener.service.\n",
            "Created symlink /etc/systemd/system/multi-user.target.wants/snapd.apparmor.service → /lib/systemd/system/snapd.apparmor.service.\n",
            "Created symlink /etc/systemd/system/multi-user.target.wants/snapd.autoimport.service → /lib/systemd/system/snapd.autoimport.service.\n",
            "Created symlink /etc/systemd/system/multi-user.target.wants/snapd.core-fixup.service → /lib/systemd/system/snapd.core-fixup.service.\n",
            "Created symlink /etc/systemd/system/multi-user.target.wants/snapd.recovery-chooser-trigger.service → /lib/systemd/system/snapd.recovery-chooser-trigger.service.\n",
            "Created symlink /etc/systemd/system/multi-user.target.wants/snapd.seeded.service → /lib/systemd/system/snapd.seeded.service.\n",
            "Created symlink /etc/systemd/system/cloud-final.service.wants/snapd.seeded.service → /lib/systemd/system/snapd.seeded.service.\n",
            "Unit /lib/systemd/system/snapd.seeded.service is added as a dependency to a non-existent unit cloud-final.service.\n",
            "Created symlink /etc/systemd/system/multi-user.target.wants/snapd.service → /lib/systemd/system/snapd.service.\n",
            "Created symlink /etc/systemd/system/timers.target.wants/snapd.snap-repair.timer → /lib/systemd/system/snapd.snap-repair.timer.\n",
            "Created symlink /etc/systemd/system/sockets.target.wants/snapd.socket → /lib/systemd/system/snapd.socket.\n",
            "Created symlink /etc/systemd/system/final.target.wants/snapd.system-shutdown.service → /lib/systemd/system/snapd.system-shutdown.service.\n",
            "Selecting previously unselected package chromium-browser.\n",
            "(Reading database ... 122099 files and directories currently installed.)\n",
            "Preparing to unpack .../chromium-browser_1%3a85.0.4183.83-0ubuntu2.22.04.1_amd64.deb ...\n",
            "=> Installing the chromium snap\n",
            "==> Checking connectivity with the snap store\n",
            "===> System doesn't have a working snapd, skipping\n",
            "Unpacking chromium-browser (1:85.0.4183.83-0ubuntu2.22.04.1) ...\n",
            "Selecting previously unselected package chromium-chromedriver.\n",
            "Preparing to unpack .../chromium-chromedriver_1%3a85.0.4183.83-0ubuntu2.22.04.1_amd64.deb ...\n",
            "Unpacking chromium-chromedriver (1:85.0.4183.83-0ubuntu2.22.04.1) ...\n",
            "Selecting previously unselected package systemd-hwe-hwdb.\n",
            "Preparing to unpack .../systemd-hwe-hwdb_249.11.4_all.deb ...\n",
            "Unpacking systemd-hwe-hwdb (249.11.4) ...\n",
            "Setting up systemd-hwe-hwdb (249.11.4) ...\n",
            "Setting up chromium-browser (1:85.0.4183.83-0ubuntu2.22.04.1) ...\n",
            "update-alternatives: using /usr/bin/chromium-browser to provide /usr/bin/x-www-browser (x-www-browser) in auto mode\n",
            "update-alternatives: using /usr/bin/chromium-browser to provide /usr/bin/gnome-www-browser (gnome-www-browser) in auto mode\n",
            "Setting up chromium-chromedriver (1:85.0.4183.83-0ubuntu2.22.04.1) ...\n",
            "Processing triggers for udev (249.11-0ubuntu3.11) ...\n",
            "Processing triggers for hicolor-icon-theme (0.17-2) ...\n",
            "Processing triggers for libc-bin (2.35-0ubuntu3.4) ...\n",
            "/sbin/ldconfig.real: /usr/local/lib/libtbbbind.so.3 is not a symbolic link\n",
            "\n",
            "/sbin/ldconfig.real: /usr/local/lib/libtbbbind_2_5.so.3 is not a symbolic link\n",
            "\n",
            "/sbin/ldconfig.real: /usr/local/lib/libtbbmalloc.so.2 is not a symbolic link\n",
            "\n",
            "/sbin/ldconfig.real: /usr/local/lib/libtbbbind_2_0.so.3 is not a symbolic link\n",
            "\n",
            "/sbin/ldconfig.real: /usr/local/lib/libtbb.so.12 is not a symbolic link\n",
            "\n",
            "/sbin/ldconfig.real: /usr/local/lib/libtbbmalloc_proxy.so.2 is not a symbolic link\n",
            "\n",
            "Processing triggers for man-db (2.10.2-1) ...\n",
            "Processing triggers for dbus (1.12.20-2ubuntu4.1) ...\n"
          ]
        }
      ]
    },
    {
      "cell_type": "code",
      "source": [
        "#Imports:\n",
        "import time,os\n",
        "from selenium import webdriver\n",
        "from selenium.common.exceptions import *\n",
        "from selenium.webdriver.support.ui import WebDriverWait\n",
        "from selenium.webdriver.common.by import By\n",
        "from selenium.webdriver.common.keys import Keys\n",
        "from selenium.webdriver.support import expected_conditions as EC\n",
        "from bs4 import BeautifulSoup as bs\n",
        "from html import *\n",
        "from time import sleep\n",
        "import pandas as pd\n",
        "import matplotlib.pyplot as plt\n",
        "from datetime import *"
      ],
      "metadata": {
        "id": "Lz9F27kGxLWW"
      },
      "execution_count": 2,
      "outputs": []
    },
    {
      "cell_type": "code",
      "source": [
        "#@title Montagem\n",
        "from google.colab import drive\n",
        "drive.mount('/content/drive')"
      ],
      "metadata": {
        "colab": {
          "base_uri": "https://localhost:8080/"
        },
        "id": "txKHfJoY1dlD",
        "outputId": "d0232b43-f154-4920-913a-6cc0d3280d4c"
      },
      "execution_count": 3,
      "outputs": [
        {
          "output_type": "stream",
          "name": "stdout",
          "text": [
            "Mounted at /content/drive\n"
          ]
        }
      ]
    },
    {
      "cell_type": "code",
      "source": [
        "#Constantes:\n",
        "url_site=r\"https://login.klassmatt.com.br/Login.aspx\"\n",
        "user_login=\"\"\n",
        "password_login=\"\""
      ],
      "metadata": {
        "id": "bAAlnydcxa0e"
      },
      "execution_count": 4,
      "outputs": []
    },
    {
      "cell_type": "code",
      "source": [
        "#Support Functions:\n",
        "def Timer(seconds):\n",
        "  sleep(seconds)\n",
        "\n",
        "def Go(driver_object):\n",
        "  try:\n",
        "    driver_object.get(url_site)\n",
        "  except Exception as err:\n",
        "    print(\"Erro no browser ao tentar carregar a url:\"+url_site + \"\\nVerifique sua conexao.\")\n",
        "\n",
        "def Login(driver_object):\n",
        "  Timer(3)\n",
        "  analyse=Wait_Until(driver_object,By.ID,'txtUsuario')\n",
        "  scripts=[\"document.getElementById('txtUsuario').value='{0}'\".format(user_login),\"document.getElementById('txtSenha').value='{0}'\".format(password_login),\"document.getElementById('cmdEntrar').click()\"]\n",
        "\n",
        "  for script in scripts:\n",
        "    try:\n",
        "      driver_object.execute_script(script)\n",
        "      Timer(1)\n",
        "    except Exception as err:\n",
        "      pass\n",
        "\n",
        "def Quit(driver_object):\n",
        "  try:\n",
        "    driver_object.Close()\n",
        "  except:\n",
        "    pass\n",
        "\n",
        "def Wait_Until(driver_object,by,tag,expected_condition=None,seconds=1,max_attempts=10):\n",
        "  attempts=max_attempts\n",
        "  expected_condition_try=EC.presence_of_element_located if expected_condition is None else expected_condition\n",
        "  while attempts>0:\n",
        "      try:\n",
        "          WebDriverWait(driver_object,seconds).until(expected_condition_try((by,tag)))\n",
        "          return True\n",
        "      except Exception as err:\n",
        "          pass\n",
        "      Timer(1)\n",
        "      attempts-=1\n",
        "  print(\"Erro no procedimento 'Wait' apos {0} tentativas de encontrar '{1}' sem sucesso!\".format(max_attempts,tag))\n",
        "  return False\n",
        "\n",
        "def Close_Alerts(driver_object):\n",
        "  k=0\n",
        "  msg_err=None\n",
        "  while k<10:\n",
        "    try:\n",
        "      driver_object.switch_to.alert().dismiss()\n",
        "      driver_object.switch_to.default_content()\n",
        "      break\n",
        "    except Exception as err:\n",
        "      msg_err=str(err)\n",
        "      pass\n",
        "    k+=1\n",
        "  if msg_err!=None:\n",
        "    print(\"Erro ao fechar o 'Alert':\\n\",msg_err)\n",
        "\n",
        "def Switch_By_Partial_Url(driver_object,partial_url=[]):\n",
        "  url=driver_object.current_url\n",
        "\n",
        "  for hwnd in driver_object.window_handles:\n",
        "    driver_object.switch_to.window(hwnd)\n",
        "    purl=driver_object.current_url\n",
        "    truely=False\n",
        "    if str(type(partial_url)).lower() == 'list':\n",
        "      truely=True\n",
        "      for u in partial_url:\n",
        "        if purl.lower().find(u.lower())<=0:\n",
        "          truely=False\n",
        "        if not truely:\n",
        "          break\n",
        "    elif str(type(partial_url)).lower() == 'str':\n",
        "      if purl.lower().find(partial_url.lower())<=0:\n",
        "        truely=True\n",
        "\n",
        "    if truely:\n",
        "      print(\"Mudando para -> Pop up ...\")\n",
        "      break\n",
        "    else:\n",
        "      driver_object.switch_to.default_content()\n",
        "\n",
        "\n"
      ],
      "metadata": {
        "id": "XW_-g3Svx2C0"
      },
      "execution_count": 5,
      "outputs": []
    },
    {
      "cell_type": "code",
      "source": [
        "#Chrome Initialize:\n",
        "def Create_Driver():\n",
        "  chrome_options = webdriver.ChromeOptions()\n",
        "  chrome_options.add_argument('--headless')\n",
        "  chrome_options.add_argument('--no-sandbox')\n",
        "  chrome_options.add_argument('--disable-dev-shm-usage')\n",
        "  driver = webdriver.Chrome(options=chrome_options)\n",
        "  return driver"
      ],
      "metadata": {
        "id": "W7zXXzqJyhqy"
      },
      "execution_count": 6,
      "outputs": []
    },
    {
      "cell_type": "code",
      "source": [
        "def Start_Registration(driver_object,title,description):\n",
        "  print(\"Start Registration ...\")\n",
        "  scripts=[\"__doPostBack('ctl00$Body$rptSolicitacaoItemNovo$ctl00$lkbutMenu','')\",\"document.getElementById('butNotFoundItem').click()\"]\n",
        "  Timer(2)\n",
        "  for script in scripts:\n",
        "    driver_object.execute_script(script)\n",
        "    Timer(2)\n",
        "  driver_object.execute_script(\"document.getElementById('txtNome').value='\"+title+\"'\")\n",
        "  Timer(1)\n",
        "  driver_object.execute_script(\"document.getElementById('txtDescricao').value='\"+description+\"'\")\n",
        "  Timer(2)\n",
        "  driver_object.execute_script(\"document.getElementById('butContinuar').click()\")\n",
        "  Timer (2)\n",
        "\n",
        "def Set_Types(driver_object,txtTipo,txtUnidadeMedida):\n",
        "  print(\"Start Setting Types ...\")\n",
        "  scripts=[\"document.getElementById('txtTipo').value='\"+txtTipo+\"'\",\"document.getElementById('txtUnidadeMedida').value='\"+txtUnidadeMedida+\"'\"]\n",
        "  for script in scripts:\n",
        "    driver_object.execute_script(script)\n",
        "    Timer(2)\n",
        "\n",
        "def Set_AS_Urgent(driver_object,urgent=False):\n",
        "  print(\"Verifing Urgencie ...\")\n",
        "  if urgent:\n",
        "    driver_object.execute_script(\"__doPostBack('ctl00$Body$dlPrioridade$ctl02$LinkButton2','')\")\n",
        "    Timer(2)\n",
        "\n",
        "def Set_Classification(driver_object,grupo,subgrupo,condicao_transacao):\n",
        "  print(\"Setting classification ...\")\n",
        "  scripts=[\"__doPostBack('ctl00$Body$dlTab$ctl02$lbutMenu','')\",\"document.getElementById('ctl00_Body_tabCategorias_ucCategorias1_gvCategorias_ctl02_txtCat').value='{0}'\".format(grupo),\n",
        "           \"document.getElementById('ctl00_Body_tabCategorias_ucCategorias1_gvCategorias_ctl03_txtCat').value='{0}'\".format(subgrupo),\n",
        "           \"document.getElementById('ctl00_Body_tabCategorias_ucCategorias1_gvCategorias_ctl04_txtCat').value='{0}'\".format(condicao_transacao)]\n",
        "\n",
        "  k=0\n",
        "  for script in scripts:\n",
        "    driver_object.execute_script(script)\n",
        "    if k==0:\n",
        "      Timer(2)\n",
        "    else:\n",
        "      Timer(1)\n",
        "    k+=1\n",
        "  Timer(2)\n",
        "\n",
        "def Set_Midia(driver_object,midia):\n",
        "  print(\"setting midia up ...\")\n",
        "  Timer(2)\n",
        "  idsin=0\n",
        "  try:\n",
        "    url=driver_object.current_url\n",
        "    idsin=url.lower().find('idsin=')+6\n",
        "    limit=idsin+6\n",
        "    idsin=int(url[idsin:limit])\n",
        "    driver_object.execute_script(\"javascript:{OpenWindowsWHRNS('Midia.aspx?tipo=SIN&id=\"+idsin+\"&Alterar=1&Session=SIN', 800, 550, 1);};\")\n",
        "  except:\n",
        "    driver_object.execute_script(\"document.getElementsByClassName('AtalhoSequencial noBr')[document.getElementsByClassName('AtalhoSequencial noBr').length-1].click()\")\n",
        "\n",
        "  if idsin==0:\n",
        "    idsin=''\n",
        "  else:\n",
        "    idsin = str(idsin)\n",
        "  hwnd=driver_object.current_window_handle\n",
        "  Switch_By_Partial_Url(driver_object,['Midia.aspx',idsin])\n",
        "\n",
        "  script=\"__doPostBack('ctl00$Body$dlMidias$ctl01$Linkbutton1','')\"\n",
        "  Timer(3)\n",
        "  driver_object.execute_script(script)\n",
        "\n",
        "  if str(type(midia)).lower()==\"list\":\n",
        "    for path in midia:\n",
        "      driver_object.find_element(By.ID,'file').send_keys(path)\n",
        "      Timer(2)\n",
        "      print(\"Texto:\",driver_object.find_element(By.ID,'file').text)\n",
        "      driver_object.execute_script(\"document.getElementById('cmdSalvar').click()\")\n",
        "      Timer(2)\n",
        "      driver_object.execute_script(\"javascript:__doPostBack('ctl00$Body$dlMidias$ctl02$Linkbutton1','')\")\n",
        "      Timer(1)\n",
        "\n",
        "  else:\n",
        "    driver_object.find_element(By.ID,'file').send_keys(midia)\n",
        "    Timer(2)\n",
        "    print(\"Texto:\",driver_object.find_element(By.ID,'file').text)\n",
        "    driver_object.execute_script(\"document.getElementById('cmdSalvar').click()\")\n",
        "    Timer(1)\n",
        "\n",
        "\n",
        "  driver_object.switch_to.window(hwnd)\n",
        "\n",
        "\n",
        "def Ending(driver_object):\n",
        "  Timer(2)\n",
        "  print(\"Finalizando ...\")\n",
        "  driver_object.execute_script(\"document.getElementById('butAcao2').click()\")\n",
        "  Timer(1)\n",
        "  driver_object.execute_script(\"document.getElementById('butContinuar').click()\")\n",
        "  Timer(1)\n",
        "  idsin = driver_object.find_element(By.ID,\"label_numeroSin\").text\n",
        "  idsin = idsin.split(\":\")[1].strip()\n",
        "  driver_object.execute_script(\"document.getElementById('butSim').click()\")\n",
        "  Timer(3)\n",
        "  driver_object.execute_script(\"__doPostBack('ctl00$Body$TopMenu1$dlmenu$ctl00$lbutopcao','')\")\n",
        "  return idsin\n",
        "  print(\"Processo concluído!\")\n",
        "\n",
        "def Klassmatt(driver_object,title='',description='',txtTipo='',txtUnidadeMedida='',urgent=False,grupo='',subgrupo='',condicao_transacao='',midia=''):\n",
        "  Start_Registration(driver_object,title,description)\n",
        "  Set_Types(driver_object,txtTipo,txtUnidadeMedida)\n",
        "  Set_AS_Urgent(driver_object,urgent)\n",
        "  Set_Classification(driver_object,grupo,subgrupo,condicao_transacao)\n",
        "  Set_Midia(driver_object,midia)\n",
        "  idsin= Ending(driver_object)\n",
        "  return idsin"
      ],
      "metadata": {
        "id": "kKHH6phkQAS_"
      },
      "execution_count": 7,
      "outputs": []
    },
    {
      "cell_type": "markdown",
      "source": [
        "# **Menu Principal**"
      ],
      "metadata": {
        "id": "ZVuluZezP0JY"
      }
    },
    {
      "cell_type": "code",
      "source": [
        "#@title Login e Senha:\n",
        "user_login = 'francisco.sousa' #@param {type:\"string\"}\n",
        "#input(\"Digite o login\\n\")\n",
        "password_login = 'Fje$1321' #@param {type:\"string\"}\n",
        "#input(\"Digite a senha\\n\")"
      ],
      "metadata": {
        "cellView": "form",
        "id": "rtP4CHJUO2tQ"
      },
      "execution_count": 125,
      "outputs": []
    },
    {
      "cell_type": "code",
      "source": [
        "#@title Parâmetros:\n",
        "codigo_email='' #@param {type:\"string\"}\n",
        "\n",
        "caminho_midia=r\"/content/drive/MyDrive/MATERIAIS/Midias/Provision Cranes.pdf\" #@param {type:\"string\"}"
      ],
      "metadata": {
        "id": "1QizSTg811zj"
      },
      "execution_count": 126,
      "outputs": []
    },
    {
      "cell_type": "markdown",
      "source": [
        "# **Executar**"
      ],
      "metadata": {
        "id": "xcEnpVobQNni"
      }
    },
    {
      "cell_type": "code",
      "source": [
        "driver=Create_Driver()\n",
        "Go(driver)\n",
        "Login(driver)\n",
        "title=\"CHAVE LIMITADORA DO IÇAMENTO (SUPERIOR)\"\n",
        "description = \"CHAVE LIMITADORA DO IÇAMENTO (SUPERIOR) - PN:P74-13 - FABRI:DREGGEN CRANE AS - EMBAR:MBEL - EQUIP:PROVISION CRANE - DISPOSITIVO DE SEGURANÇA DA LANÇA PARA IÇAR (SUPERIOR) - PN:P74-13 - FABRICANTEDREGGEN CRANE AS - EMBARCACAO:MBEL - EQUIPAMENTO:PROVISION CRANE - MODELO:DK 160-10T-12M - SERIE:L677A-L - NOME INGLES:LIMIT SWITCH, HOIST TOP POS. - APLICACAO:SEGURANÇA/ BELMONTE III EQUIPAMENTO PORTUGUES:GUINDASTE DE PROVISÕES - MATERIAL: - OBS:\"\n",
        "grupo=\"58. MATERIAIS MECANICA (EQUIPAMENTOS / SOBRESSALENTES)\"\n",
        "subgrupo=\"195. GUINDASTE PARA CONTAINER ESTACIONARIOS (EQUIPAMENTOS, ACESSORIOS E SOBRESSALENTES)\"\n",
        "cond_transacao=\"1. USO E CONSUMO\"\n",
        "Klassmatt(driver,title,description,'MATERIAL','PECA',True,grupo,subgrupo,cond_transacao,caminho_midia)\n",
        "#print(driver.page_source)"
      ],
      "metadata": {
        "colab": {
          "base_uri": "https://localhost:8080/",
          "height": 157
        },
        "id": "BJlgJaY2J_qg",
        "outputId": "1f8d9f0d-9f47-4d7e-81c0-d13e71eece46"
      },
      "execution_count": 127,
      "outputs": [
        {
          "output_type": "stream",
          "name": "stdout",
          "text": [
            "Start Registration ...\n",
            "Start Setting Types ...\n",
            "Verifing Urgencie ...\n",
            "Setting classification ...\n",
            "setting midia up ...\n",
            "Texto: \n",
            "Finalizando ...\n"
          ]
        },
        {
          "output_type": "execute_result",
          "data": {
            "text/plain": [
              "'123907'"
            ],
            "application/vnd.google.colaboratory.intrinsic+json": {
              "type": "string"
            }
          },
          "metadata": {},
          "execution_count": 127
        }
      ]
    }
  ]
}